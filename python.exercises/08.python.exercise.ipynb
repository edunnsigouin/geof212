{
 "cells": [
  {
   "cell_type": "markdown",
   "metadata": {},
   "source": [
    "# Exercise 8: The wind-driven ocean circulation\n",
    "\n",
    "### *geof212, Fall 2021*\n",
    "### *Written by Etienne Dunn-Sigouin 21-09-01*\n",
    "\n",
    "\n",
    "## Introduction\n",
    "\n",
    "Here you will analyse the relationship between surface winds and sea-surface temperatures (SSTs) to infer aspects of the wind driven ocean circulation. Specifically, you will use ERA-Interim reanalysis data to reproduce Fig. 7.7a in the Hartmann textbook.\n",
    "\n",
    "The exercise walks you through some of the tasks but leaves others for you to do in <font color=blue>**blue**</font>. In order to start this exercise, you must first log on to cyclone, open up this jupyter notebook file '08.python.exercise.ipynb' and make sure your python kernal/environment is set to 'geof212env'. Please refer back to exercise 0 for instructions on how to do this."
   ]
  },
  {
   "cell_type": "markdown",
   "metadata": {
    "tags": []
   },
   "source": [
    "### 1. Read in data and calculate their January climatologies\n",
    "\n",
    "<font color=blue> The data are monthly means of sea-surface temperature (sst), northward turbulent wind stress (nsss) and eastward turbulent wind stress (ewss) as a function of latitude and longitude for years 1979-2017. Turbulent wind stress is the force exerted by the atmosphere on the ocean surface, i.e. the surface wind physically pushing the ocean in the horizontal plane, which is given in units of $Nm^{-2}$. Note that months 1-12 in the data correspond to Jan-Dec. For useful tips on how to read data and calculate time-means, refer back to previous exercies.\n",
    "\n",
    "<font color=blue> 1. Read the variables (sst, nsss, ewss) from files in 'datadir' with the format 'xyt_variable_monthly_1979-2017.nc'  \n",
    "\n",
    "<font color=blue> 2. Calculate the annual-mean by averaging over all years\n",
    "\n",
    "<font color=blue> 3. Extract the month of January. You might find the xarray 'sel' function useful here. Google the documentation for further information."
   ]
  },
  {
   "cell_type": "markdown",
   "metadata": {},
   "source": [
    "Import the necessary python packages to analyse the data and define the main directory where the data is stored on cyclone."
   ]
  },
  {
   "cell_type": "code",
   "execution_count": 1,
   "metadata": {},
   "outputs": [],
   "source": [
    "import numpy             as np\n",
    "import matplotlib.pyplot as plt\n",
    "import xarray            as xr\n",
    "import cartopy\n",
    "import cartopy.crs       as ccrs\n",
    "%matplotlib inline \n",
    "datadir = '/Data/skd/users/edu061/geof212/data.for.python.exercises/erai/'"
   ]
  },
  {
   "cell_type": "markdown",
   "metadata": {
    "jp-MarkdownHeadingCollapsed": true,
    "tags": []
   },
   "source": [
    "### 2. Plot sea-surface temperatures as a function of latitude and longitude\n",
    "\n",
    "<font color=blue> Plot SSTs with shading as in Fig. 7.7a in the Hartmann textbook. Refer to previous exercises for useful tips on how to plot data as a function latitude and longitude. Note that you can orient the plot so that the pacific ocean is in the center by using the following code:</font>\n",
    "\n",
    "```python\n",
    "fig = plt.figure(figsize=(15,15))\n",
    "ax  = plt.axes(projection=ccrs.Robinson(central_longitude=180.0))\n",
    "ax.coastlines()  \n",
    "```"
   ]
  },
  {
   "cell_type": "markdown",
   "metadata": {
    "jp-MarkdownHeadingCollapsed": true,
    "tags": []
   },
   "source": [
    "### 3. Overlay northward and eastward surface wind stress on SSTs \n",
    "\n",
    "In order to recreate a plot similar to Fig. 7.7a in the Hartmann textbook, you will need to learn how to plot arrows which represent the direction and magnitude of the wind stress on the ocean. See the code below:\n",
    "\n",
    "```python\n",
    "# plot green arrows every other longitude and latitude. This makes the plot nicer.\n",
    "ax.quiver(lon[0::2], lat[0::2], ewss[0::2,0::2].values, nsss[0::2,0::2].values, transform=ccrs.PlateCarree(),color='green')\n",
    "```\n",
    "<font color=blue> Overlay wind stress vectors onto SSTs in a single plot by combining the two sets of code above. The figure should look similar to Fig. 7.7a in the Hartmann textbook."
   ]
  },
  {
   "cell_type": "markdown",
   "metadata": {
    "tags": []
   },
   "source": [
    "### 4. Inferring aspects of the wind driven ocean circulation\n",
    "\n",
    "<font color=blue> Your plot shows that SSTs are (a) cooler in the east Pacific than the west Pacific along the equator and (b) cooler along the North and South American coasts than along Australia, china and Japan. Can you use the surface wind stress information and your knowledge of the wind driven ocean circulation to explain these observations ? \n",
    "    \n",
    "    "
   ]
  }
 ],
 "metadata": {
  "kernelspec": {
   "display_name": "geof212env",
   "language": "python",
   "name": "geof212env"
  },
  "language_info": {
   "codemirror_mode": {
    "name": "ipython",
    "version": 3
   },
   "file_extension": ".py",
   "mimetype": "text/x-python",
   "name": "python",
   "nbconvert_exporter": "python",
   "pygments_lexer": "ipython3",
   "version": "3.8.10"
  }
 },
 "nbformat": 4,
 "nbformat_minor": 4
}
