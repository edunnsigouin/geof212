{
 "cells": [
  {
   "cell_type": "markdown",
   "metadata": {},
   "source": [
    "# Exercise 7: The large-scale atmospheric circulation\n",
    "\n",
    "### *geof212, Fall 2021*\n",
    "### *Written by Etienne Dunn-Sigouin 21-09-01*\n",
    "\n",
    "\n",
    "## Introduction\n",
    "\n",
    "Here you will analyse the large-scale atmospheric circulation. Specifically, you will plot the climatological winter and summer zonal-mean zonal-wind as a function of latitude and pressure (Hartmann Fig. 6.4) and the upper-level zonal-wind as a function of latitude and longitude (Hartmann Fig. 6.18) using ERA-Interim reanalysis data.  \n",
    "\n",
    "The exercise walks you through some of the tasks but leaves others for you to do in <font color=blue>**blue**</font>. In order to start this exercise, you must first log on to cyclone, open up this jupyter notebook file '07.python.exercise.ipynb' and make sure your python kernal/environment is set to 'geof212env'. Please refer back to exercise 0 for instructions on how to do this."
   ]
  },
  {
   "cell_type": "markdown",
   "metadata": {
    "tags": []
   },
   "source": [
    "### 1. Read zonal-mean U and calculate January and July climatologies\n",
    "\n",
    "<font color=blue> The data are monthly means of zonal-mean zonal wind (u) as a function of latitude and pressure for years 1979-2017. Note that months 1-12 in the data correspond to Jan-Dec. For useful tips on how to read data and calculate time-means, refer back to the previous exercises.\n",
    "\n",
    "<font color=blue> 1. Read zonal-mean zonal wind u from the file called 'yzt_u_monthly_1979-2017.nc'  \n",
    "\n",
    "<font color=blue> 2. Calculate the annual-mean by averaging over all years\n",
    "\n",
    "<font color=blue> 3. Extract the months of January and July separetely. You might find the xarray 'sel' function useful here. Google the documentation for further information."
   ]
  },
  {
   "cell_type": "markdown",
   "metadata": {},
   "source": [
    "Import the necessary python packages to analyse the data and define the main directory where the data is stored on cyclone."
   ]
  },
  {
   "cell_type": "code",
   "execution_count": 1,
   "metadata": {},
   "outputs": [],
   "source": [
    "import numpy             as np\n",
    "import matplotlib.pyplot as plt\n",
    "import xarray            as xr\n",
    "import cartopy\n",
    "import cartopy.crs       as ccrs\n",
    "%matplotlib inline \n",
    "datadir = '/Data/skd/users/edu061/geof212/data.for.python.exercises/erai/'"
   ]
  },
  {
   "cell_type": "markdown",
   "metadata": {
    "tags": []
   },
   "source": [
    "### 2. Plot the zonal-mean U\n",
    "\n",
    "<font color=blue> Here you will produce a figure similar to Fig. 6.4 in the Hartmann textbook.\n",
    "\n",
    "<font color=blue> 1. Plot zonal-mean zonal wind u as a function of latitude and pressure for January. In order to reproduce the aspect ratio of Hartmann's plot, you need to plot the data as a function of the log10 of pressure.\n",
    "\n",
    "<font color=blue> 2. Repeat 1. for July zonal-wind.\n",
    "\n",
    "<font color=blue> 3. Why must there be tropical surface easterlies if there are midlatitude surface westerlies?    "
   ]
  },
  {
   "cell_type": "markdown",
   "metadata": {
    "tags": []
   },
   "source": [
    "### 3. Read U at 200 hPa and calculate the January and July climatologies separately\n",
    "\n",
    "<font color=blue> The data are monthly means of zonal wind (u) as a function of latitude and longitude for years 1979-2017. Note that months 1-12 in the data correspond to Jan-Dec. For useful tips on how to read data and calculate time-means, refer back to previous exercises.\n",
    "\n",
    "<font color=blue> 1. Read zonal wind u from the file called 'xyt_u_200hpa_monthly_1979-2017.nc'  \n",
    "\n",
    "<font color=blue> 2. Calculate the annual-mean by averaging over all years\n",
    "\n",
    "<font color=blue> 3. Extract the months of January and July separetely. You might find the xarray 'sel' function useful here. Google the documentation for further information."
   ]
  },
  {
   "cell_type": "markdown",
   "metadata": {
    "tags": []
   },
   "source": [
    "### 4. Plot U at 200 hPa as a function of latitude and longitude \n",
    "\n",
    "<font color=blue> Here you will produce a figure similar to Fig. 6.18 in the Hartmann textbook.\n",
    "\n",
    "<font color=blue> 1. Plot zonal wind u as a function of latitude and pressure for January. \n",
    "\n",
    "<font color=blue> 2. Repeat 1. for July zonal-wind.\n",
    "\n",
    "<font color=blue> 3. Can you give a qualitative explanation for why the jet stream exhibits large changes in strength as a function of longitude ? \n",
    "\n",
    "<font color=blue> 4. Why is the jet stream more zonal in the southern-hemisphere compared to the northern hemisphere ?   "
   ]
  }
 ],
 "metadata": {
  "kernelspec": {
   "display_name": "geof212env",
   "language": "python",
   "name": "geof212env"
  },
  "language_info": {
   "codemirror_mode": {
    "name": "ipython",
    "version": 3
   },
   "file_extension": ".py",
   "mimetype": "text/x-python",
   "name": "python",
   "nbconvert_exporter": "python",
   "pygments_lexer": "ipython3",
   "version": "3.8.10"
  }
 },
 "nbformat": 4,
 "nbformat_minor": 4
}
