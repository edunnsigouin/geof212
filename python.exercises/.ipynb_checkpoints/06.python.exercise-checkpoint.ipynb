{
 "cells": [
  {
   "cell_type": "markdown",
   "metadata": {},
   "source": [
    "# Exercise 6: The surface moisture budget\n",
    "\n",
    "### *geof212, Fall 2021*\n",
    "### *Written by Etienne Dunn-Sigouin 21-09-01*\n",
    "\n",
    "\n",
    "## Introduction\n",
    "\n",
    "Here you will analyse the annual-mean surface moisture budget in equations 5.1-5.2 in the Hartmann textbook: \n",
    "\n",
    "$$\n",
    "\\frac{dM}{dt} = P + E + \\nabla \\cdot F_{m} \\approx 0\n",
    "$$\n",
    "\n",
    "where M refers to the mass of moisture, P to precipitation, E to evaporation and $\\nabla \\cdot F_{m}$ to the divergence of the moisture flux by the atmospheric circulation. Specifically, you will use ERA-Interim reanalysis data to reproduce Fig. 5.2 in the Hartmann textbook.\n",
    "\n",
    "The exercise walks you through some of the tasks but leaves others for you to do in <font color=blue>**blue**</font>. In order to start this exercise, you must first log on to cyclone, open up this jupyter notebook file '06.python.exercise.ipynb' and make sure your python kernal/environment is set to 'geof212env'. Please refer back to exercise 0 for instructions on how to do this."
   ]
  },
  {
   "cell_type": "markdown",
   "metadata": {
    "tags": []
   },
   "source": [
    "### 1. Read the data and calculate the annual and zonal-mean\n",
    "\n",
    "<font color=blue> The data are monthly means of precipitation (tp) and evaporation (e) as a function of latitude and longitude for years 1979-2017. For useful tips on how to read data and calculate zonal- and annual-means, refer back to exercise 4.\n",
    "\n",
    "<font color=blue> 1. Read both variables (tp,e) from individual files in 'datadir' with the format 'xyt_variable_monthly_1979-2017.nc'  \n",
    "\n",
    "<font color=blue> 2. Calculate the zonal-mean of each variable\n",
    "\n",
    "<font color=blue> 3. Calculate the annual-mean of each variable\n",
    "\n",
    "<font color=blue> 4. Convert the variables from units of m/s to mm/day "
   ]
  },
  {
   "cell_type": "markdown",
   "metadata": {},
   "source": [
    "Import the necessary python packages to analyse the data and define the main directory where the data is stored on cyclone."
   ]
  },
  {
   "cell_type": "code",
   "execution_count": 1,
   "metadata": {},
   "outputs": [],
   "source": [
    "import numpy      as np\n",
    "import matplotlib.pyplot as plt\n",
    "import xarray     as xr\n",
    "import cartopy\n",
    "import cartopy.crs as ccrs\n",
    "%matplotlib inline \n",
    "datadir = '/Data/skd/users/edu061/geof212/data.for.python.exercises/erai/'"
   ]
  },
  {
   "cell_type": "markdown",
   "metadata": {
    "tags": []
   },
   "source": [
    "### 2. Reproduce Fig. 5.2 from the Hartmann textbook\n",
    "\n",
    "\n",
    "\n",
    "<font color=blue> Plot zonal-mean precipitation, evaporation, and their difference. Positive values of P-E implies convergence of moisture by the atmospheric circulation, while negative values imply divergence. What types of circulations are responsible for convergence of moisture in the tropics ? in mid-latitudes ?\n"
   ]
  },
  {
   "cell_type": "markdown",
   "metadata": {
    "tags": []
   },
   "source": [
    "### 3. Balance the budget by showing that global-mean $P-E \\approx 0$ or equivalently $\\nabla \\cdot F_{m} \\approx 0$ \n",
    "\n",
    "<font color=blue> Calculate the global-mean of precipitation, evaporation and their difference. Remember to use weighted meridional averages to account for the convergence of longitudes at the poles as shown in a previous exercise."
   ]
  }
 ],
 "metadata": {
  "kernelspec": {
   "display_name": "geof212env",
   "language": "python",
   "name": "geof212env"
  },
  "language_info": {
   "codemirror_mode": {
    "name": "ipython",
    "version": 3
   },
   "file_extension": ".py",
   "mimetype": "text/x-python",
   "name": "python",
   "nbconvert_exporter": "python",
   "pygments_lexer": "ipython3",
   "version": "3.8.10"
  }
 },
 "nbformat": 4,
 "nbformat_minor": 4
}
