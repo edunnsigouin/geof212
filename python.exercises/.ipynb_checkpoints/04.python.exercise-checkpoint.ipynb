{
 "cells": [
  {
   "cell_type": "markdown",
   "metadata": {},
   "source": [
    "# Exercise 4: The cloud radiative effect\n",
    "\n",
    "### *geof212, Fall 2021*\n",
    "### *Written by Etienne Dunn-Sigouin 21-09-01*\n",
    "\n",
    "\n",
    "## Introduction\n",
    "\n",
    "Here you will quantify the annual-mean effect of clouds on radiation at the top of the atmosphere, i.e. the Cloud-Radiative-Effect (CRE), using ERA-Interim reanalysis data similar to Fig. 3.22 in the Hartmann textbook. CRE is defined as:\n",
    "\n",
    "$$\n",
    "CRE = F_{net} - F_{net, clear}\n",
    "$$\n",
    "\n",
    "where F refers to either net shortwave or longwave radiation flux and the subscript clear refers to the flux without clouds. \n",
    "\n",
    "The exercise walks you through some of the tasks but leaves others for you to do in <font color=blue>**blue**</font>. In order to start this exercise, you must first log on to cyclone, open up this jupyter notebook file '04.python.exercise.ipynb' and make sure your python kernal/environment is set to 'geof212env'. Please refer back to exercise 0 for instructions on how to do this."
   ]
  },
  {
   "cell_type": "markdown",
   "metadata": {
    "tags": []
   },
   "source": [
    "### 1. Read the data and calculate the annual-mean\n",
    "\n",
    "<font color=blue> The data are monthly means of toa net longwave radiation (ttr), net shortwave radiation (tsr), clear-sky net longwave radiation (ttrc) and clear-sky net shortwave radiation (tsrc) as a function of latitude and longitude for years 1979-2017. For useful tips on how to read data, refer back to exercise 4.\n",
    "\n",
    "<font color=blue> 1. Read all 4 variables (ttr, tsr, ttrc, tsrc) from individual files in 'datadir' with the format 'xyt_variable_monthly_1979-2017.nc'  \n",
    "    \n",
    "<font color=blue> 2. Calculate the annual-mean of each variable by averaging over all years and all months   \n",
    "\n",
    "<font color=blue> 3. Calculate shortwave, longwave and total (longwave + shortwave) CRE    "
   ]
  },
  {
   "cell_type": "markdown",
   "metadata": {},
   "source": [
    "Import the necessary python packages to analyse the data and define the main directory where the data is stored on cyclone."
   ]
  },
  {
   "cell_type": "code",
   "execution_count": 1,
   "metadata": {},
   "outputs": [],
   "source": [
    "import numpy             as np\n",
    "import matplotlib.pyplot as plt\n",
    "import xarray            as xr\n",
    "import cartopy\n",
    "import cartopy.crs       as ccrs\n",
    "%matplotlib inline \n",
    "datadir = '/Data/skd/users/edu061/geof212/data.for.python.exercises/erai/'"
   ]
  },
  {
   "cell_type": "markdown",
   "metadata": {
    "tags": []
   },
   "source": [
    "### 2. Plot CRE as a function of latitude and longitude \n",
    "\n",
    "<font color=blue> For usefull examples for how to plot data, refer back to exercise 4.\n",
    "    \n",
    "<font color=blue> 1. Plot shortwave, longwave and total CRE as a function of latitude and longitude. \n",
    "\n",
    "<font color=blue> 2. Check your answer by comparing your plots with Fig. 3.22 in the Hartmann textbook.\n",
    "\n",
    "<font color=blue> 3. Overall, do clouds warm or cool the earth ? "
   ]
  }
 ],
 "metadata": {
  "kernelspec": {
   "display_name": "geof212env",
   "language": "python",
   "name": "geof212env"
  },
  "language_info": {
   "codemirror_mode": {
    "name": "ipython",
    "version": 3
   },
   "file_extension": ".py",
   "mimetype": "text/x-python",
   "name": "python",
   "nbconvert_exporter": "python",
   "pygments_lexer": "ipython3",
   "version": "3.8.10"
  }
 },
 "nbformat": 4,
 "nbformat_minor": 4
}
