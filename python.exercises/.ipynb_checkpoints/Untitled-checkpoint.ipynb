{
 "cells": [
  {
   "cell_type": "markdown",
   "id": "36420889-f1dc-4f26-9813-aa37df376dbd",
   "metadata": {},
   "source": [
    "# Exercise 0: setting up your python\n",
    "\n",
    "*GEOF212, Fall 2021*\n",
    "\n",
    "*Written by Etienne Dunn-Sigouin 21-09-01*"
   ]
  },
  {
   "cell_type": "markdown",
   "id": "72183683-07f3-4012-b1db-5d06115f2093",
   "metadata": {},
   "source": [
    "## Introduction\n",
    "\n",
    "The goal of this assignment is to set up your own personal python software stack that you will use throughout the course. The data you will need to complete the exercises are stored on GFI's supercomputer called cyclone. Therefore, as part of this exercise, we will show you how to set up python and code using the jupyter notebook on cyclone. The linux command ssh will allow you to control cyclone right from your own computer (technically this is called an ssh tunnel). The workflow is shown in the schematic below. "
   ]
  },
  {
   "cell_type": "markdown",
   "id": "50de935c-5b95-4d82-b7fa-dd00a6c496ae",
   "metadata": {},
   "source": [
    "1. If you are off campus, login to the UiB VPN (Cisco).  \n",
    "2. CDJBCHDBCHDB"
   ]
  },
  {
   "cell_type": "markdown",
   "id": "7550fe00-769e-491e-a375-416d78a45fe7",
   "metadata": {},
   "source": [
    "2. Open the terminal. "
   ]
  },
  {
   "cell_type": "code",
   "execution_count": null,
   "id": "19b96fdb-3197-4e0a-976a-d0dcde0c12f1",
   "metadata": {},
   "outputs": [],
   "source": []
  }
 ],
 "metadata": {
  "kernelspec": {
   "display_name": "geof212env",
   "language": "python",
   "name": "geof212env"
  },
  "language_info": {
   "codemirror_mode": {
    "name": "ipython",
    "version": 3
   },
   "file_extension": ".py",
   "mimetype": "text/x-python",
   "name": "python",
   "nbconvert_exporter": "python",
   "pygments_lexer": "ipython3",
   "version": "3.8.10"
  }
 },
 "nbformat": 4,
 "nbformat_minor": 5
}
